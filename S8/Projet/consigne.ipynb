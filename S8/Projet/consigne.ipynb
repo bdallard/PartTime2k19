{
 "cells": [
  {
   "cell_type": "markdown",
   "metadata": {},
   "source": [
    "La société XYZ vend un logiciel au prix de 39€. Le chiffre d’affaires ayant été stable pendant un certain temps, le mainteneur du produit (Product Owner PO) a donc décidé de lancer un test d’augmentation du prix du software. Il espère que cela augmenterait les revenus! Il lance un TEST, dans l'expérience, 66\\% des utilisateurs ont remarqué le changement de prix (39€), alors qu'un échantillon aléatoire de 33\\% n'a pas remarqué le prix plus élevé (59€).\n",
    "\n",
    "Le test étant en cours depuis un certain temps et le PO, souhaite comprendre comment cela s'est passé et s’il serait judicieux d’augmenter le prix pour tous les utilisateurs.\n",
    "\n",
    "En particulier, il vous a posé les questions suivantes:\n",
    "\n",
    "* L'entreprise devrait-elle vendre son logiciel à 39 ou 59€?\n",
    "* Le PO est intéressé par une vision globale du comportement des utilisateurs, en particulier en se concentrant sur des informations exploitables susceptibles d'augmenter le taux de conversion. Que faite vous avec ses données?\n",
    "* **Bonus** : Le PO estime que le test dure trop longtemps et aurait dû pouvoir obtenir des résultats significatifs plus rapidement. Êtes-vous d'accord avec son intuition? "
   ]
  },
  {
   "cell_type": "code",
   "execution_count": null,
   "metadata": {},
   "outputs": [],
   "source": [
    "import numpy as np\n",
    "import pandas as pd\n",
    "import scipy.stats as ss\n",
    "from sklearn.preprocessing import LabelEncoder\n",
    "from sklearn.feature_selection import chi2,f_classif\n",
    "from sklearn.tree import DecisionTreeClassifier,export_graphviz\n",
    "import matplotlib.pyplot as plt \n",
    "%matplotlib inline "
   ]
  }
 ],
 "metadata": {
  "kernelspec": {
   "display_name": "Python 3",
   "language": "python",
   "name": "python3"
  },
  "language_info": {
   "codemirror_mode": {
    "name": "ipython",
    "version": 3
   },
   "file_extension": ".py",
   "mimetype": "text/x-python",
   "name": "python",
   "nbconvert_exporter": "python",
   "pygments_lexer": "ipython3",
   "version": "3.7.1"
  }
 },
 "nbformat": 4,
 "nbformat_minor": 2
}
