{
 "cells": [
  {
   "cell_type": "markdown",
   "metadata": {},
   "source": [
    "# Bonus : le code de César\n",
    "\n",
    "En cryptographie, le chiffrement par décalage, aussi connu comme le chiffre de César ou le code de César, est **une méthode de chiffrement très simple utilisée par Jules César dans ses correspondances secrètes** (ce qui explique le nom « chiffre de César »).\n",
    "\n",
    "**Le texte chiffré s'obtient en remplaçant chaque lettre du texte clair original par une lettre à distance fixe, toujours du même côté, dans l'ordre de l'alphabet.** Pour les dernières lettres (dans le cas d'un décalage à droite), on reprend au début. \n",
    "\n",
    "Par exemple avec un décalage de 3 vers la droite, A est remplacé par D, B devient E, et ainsi jusqu'à W qui devient Z, puis X devient A etc. Il s'agit d'une permutation circulaire de l'alphabet. \n",
    "\n",
    "## Objectif \n",
    "En appliquant l'exemple ci-dessus (décalage de 3) créer une fonction appelé `code_cesar` qui prendra en argument un `String m` et donner le code de César pour le message m suivant :\n",
    "```\n",
    "m = \"JENESUISPASCODE\"\n",
    "```\n"
   ]
  },
  {
   "cell_type": "code",
   "execution_count": null,
   "metadata": {},
   "outputs": [],
   "source": []
  }
 ],
 "metadata": {
  "kernelspec": {
   "display_name": "Python 3",
   "language": "python",
   "name": "python3"
  },
  "language_info": {
   "codemirror_mode": {
    "name": "ipython",
    "version": 3
   },
   "file_extension": ".py",
   "mimetype": "text/x-python",
   "name": "python",
   "nbconvert_exporter": "python",
   "pygments_lexer": "ipython3",
   "version": "3.7.1"
  }
 },
 "nbformat": 4,
 "nbformat_minor": 2
}
